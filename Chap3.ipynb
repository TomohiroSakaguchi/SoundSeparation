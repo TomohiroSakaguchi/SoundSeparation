{
 "cells": [
  {
   "cell_type": "code",
   "execution_count": 2,
   "metadata": {},
   "outputs": [],
   "source": [
    "import numpy as np"
   ]
  },
  {
   "cell_type": "code",
   "execution_count": 8,
   "metadata": {},
   "outputs": [
    {
     "name": "stdout",
     "output_type": "stream",
     "text": [
      "行列Aの大きさ(M行， N行):  (2, 3)\n",
      "A= \n",
      " [[3. 1. 2.]\n",
      " [2. 3. 1.]]\n",
      "cA= \n",
      " [[6. 2. 4.]\n",
      " [4. 6. 2.]]\n",
      "A + B= \n",
      " [[ 2.  3.  6.]\n",
      " [ 3. 11.  7.]]\n",
      "AB= \n",
      " [[13. 19.]\n",
      " [ 6. 18.]]\n",
      "AB= \n",
      " [[13. 19.]\n",
      " [ 6. 18.]]\n",
      "A * B= \n",
      " [[-3.  2.  8.]\n",
      " [ 2. 24.  6.]]\n",
      "A^T= \n",
      " [[3. 2.]\n",
      " [1. 3.]\n",
      " [2. 1.]]\n",
      "A^T= \n",
      " [[3. 2.]\n",
      " [1. 3.]\n",
      " [2. 1.]]\n",
      "A^T= \n",
      " [[3. 2.]\n",
      " [1. 3.]\n",
      " [2. 1.]]\n",
      "A= \n",
      " [[3.+0.j 1.+2.j 2.+3.j]\n",
      " [2.+0.j 3.-4.j 1.+3.j]]\n",
      "A^H= \n",
      " [[3.-0.j 2.-0.j]\n",
      " [1.-2.j 3.+4.j]\n",
      " [2.-3.j 1.-3.j]]\n",
      "A^H= \n",
      " [[3.-0.j 2.-0.j]\n",
      " [1.-2.j 3.+4.j]\n",
      " [2.-3.j 1.-3.j]]\n",
      "(AB)^H= \n",
      " [[ 2.-20.j  1.-21.j]\n",
      " [ 8.-20.j -5. +4.j]]\n",
      "B^H A^H= \n",
      " [[ 2.-20.j  1.-21.j]\n",
      " [ 8.-20.j -5. +4.j]]\n",
      "I = \n",
      " [[1. 0. 0.]\n",
      " [0. 1. 0.]\n",
      " [0. 0. 1.]]\n"
     ]
    }
   ],
   "source": [
    "#行列Aの定義\n",
    "A = np.matrix([[3., 1., 2.], [2., 3., 1.]])\n",
    "\n",
    "print(\"行列Aの大きさ(M行， N行): \", np.shape(A))\n",
    "print(\"A= \\n\", A)\n",
    "\n",
    "#スカラー倍\n",
    "c =2.\n",
    "print(\"cA= \\n\",c* A)\n",
    "\n",
    "#行列Aに行列Bを足す\n",
    "B = np.matrix([[-1., 2., 4.], [1., 8., 6.]])\n",
    "print(\"A + B= \\n\", A+B)\n",
    "\n",
    "#行列Aに行列Bを掛ける\n",
    "B = np.matrix([[4., 2.], [-1., 3.], [1., 5.]])\n",
    "print(\"AB= \\n\", np.matmul(A,B))\n",
    "print(\"AB= \\n\", np.einsum(\"mk,kn->mn\",A,B))\n",
    "\n",
    "#行列Aと行列Bのアダマール積(要素ごとの積)\n",
    "B = np.matrix([[-1., 2., 4.], [1., 8., 6.]])\n",
    "print(\"A * B= \\n\", np.multiply(A,B))\n",
    "\n",
    "#行列Aの転置\n",
    "print(\"A^T= \\n\", A.T)\n",
    "print(\"A^T= \\n\", np.transpose(A,axes=(1,0)))\n",
    "print(\"A^T= \\n\", np.swapaxes(A,1,0))\n",
    "\n",
    "#複素行列のエルミート積\n",
    "A = np.matrix([[3., 1.+2.j, 2.+3.j], [2., 3.-4.j, 1.+3.j]])\n",
    "print(\"A= \\n\", A)\n",
    "print(\"A^H= \\n\", A.H)\n",
    "print(\"A^H= \\n\", np.swapaxes(np.conjugate(A),1, 0))\n",
    "\n",
    "#行列の積に対するエルミート転置\n",
    "A = np.matrix([[3., 1.+2.j, 2.+3.j], [2., 3.-4.j, 1.+3.j]])\n",
    "B = np.matrix([[4.+4.j, 2.-3.j], [-1.+1.j, 3.-2.j], [1.+3.j, 5.+5j]])\n",
    "print(\"(AB)^H= \\n\", (np.matmul(A,B)).H)\n",
    "print(\"B^H A^H= \\n\", np.matmul(B.H, A.H))\n",
    "\n",
    "#単位行列\n",
    "I = np.eye(N=3)\n",
    "print(\"I = \\n\", I)"
   ]
  },
  {
   "cell_type": "markdown",
   "metadata": {},
   "source": [
    "3次元以上の配列のことをテンソルと呼ぶ，\n",
    "\n",
    "時間（フレーム）・周波数ごとの行列$A_{lk}$と時間に依存しない周波数ごとの行列$B_k$の行列の積をとり，行列$C_{lk}$を以下のように計算する場合を考える．\n",
    "$$\n",
    "C_{lk} = A_{lk} B_k\n",
    "$$\n",
    "このようなテンソルの積を計算する際に有効な計算方法がアインシュタインの縮約記法である．この記法にしたがって計算を行う関数がはeinsumであり，NumPyに定義されている．\n",
    "先述の式を例にとって，アインシュタインの縮約記法を用いてみる．行列$A_{lk}$を$M$行$R$列，行列$B_k$を$R$行$N$列の行列とする．このとき，要素ごとに書くと$C$の$m$行$n$列の要素は，\n",
    "$$\n",
    "C_{lkmn} = \\sum_{r} A_{lkmr} B_{krn}\n",
    "$$\n",
    "となる．ここで行列の積の計算は要素の5つのインデックス$l,k,m,r,n$ののかの一つについて和をとる計算とみることができる．\n",
    "\n",
    "具体的には$A$と$B$のインデックスには$k$と$r$が重なっている．一方で$C$のインデックスの中には$k$はあるが$r$は存在していない．つまり，掛け算を行うインデックスの中で重なっている部分インデックスかつ出力されるインデックスにないインデックスについて和を取ればよいことになる．\n",
    "\n",
    "アインシュタインの縮約記法ではどのように掛け算を行うのかのルールを入力のインデックスと出力のインデックスの形式を与えることで教える．上記の例場合，$lkmr,krn\\rightarrow lkmn$と記述できる．\n",
    "\n",
    "また，行列$C$を計算する際に$A_{lk}$と$B_k$を掛けたものを時間方向に和をとるように計算したい場合は次の式で表せられる．\n",
    "$$\n",
    "C_k = \\sum_{l} A_{lk}B_k\n",
    "$$\n",
    "これを要素ごとに記述する場合，\n",
    "$$\n",
    "C_{kmn} = \\sum_{l, r} A_{lkmr} B_{krn}\n",
    "$$\n",
    "となる．この場合，縮約記法では$lkmr,krn\\rightarrow kmn$と表すことができ，単純に和をとる場合でも出力インデックスをひとつ減らすだけで簡単に表現できる．\n",
    "\n",
    "ところで次のような注意も必要である．$M$行$N$列の行列積を$mn,nm\\rightarrow mn$と書いてしまった場合，これはアダマール積を表すことになるので意図した動作にならないことがある．一般的なアダマール積の表し方は行列$A_{lk}$を$M$行$N$列，行列$B_k$を$M$行$N$列の行列とした場合，\n",
    "$$\n",
    "C_{lkmn} = A_{lkmn}B_{kmn}\n",
    "$$\n",
    "で表されるので，$lkmn,kmn\\rightarrow lkmn$と縮約される．掛け算を行うインデックの中で重なっているインデックスはあるものの，出力されるインデックスで欠けるものがないため，和をとることなく，要素ごとの積の演算になる．"
   ]
  },
  {
   "cell_type": "code",
   "execution_count": 2,
   "metadata": {},
   "outputs": [],
   "source": [
    "import numpy as np"
   ]
  },
  {
   "cell_type": "code",
   "execution_count": 3,
   "metadata": {},
   "outputs": [
    {
     "name": "stdout",
     "output_type": "stream",
     "text": [
      "shape(C):  (10, 5, 3, 3)\n",
      "A(0,0)B(0,0) = \n",
      " [[-0.49715528+1.60739814j -0.0430694 +2.13098867j  0.49058998+1.53302537j]\n",
      " [-0.40774965+1.27706091j -0.11232905+1.78980525j  0.30717926+1.39995875j]\n",
      " [-0.44493154+2.37398823j  0.59400714+1.73358933j  0.62369562+0.94900167j]]\n",
      "C(0,0) = \n",
      " [[-0.49715528+1.60739814j -0.0430694 +2.13098867j  0.49058998+1.53302537j]\n",
      " [-0.40774965+1.27706091j -0.11232905+1.78980525j  0.30717926+1.39995875j]\n",
      " [-0.44493154+2.37398823j  0.59400714+1.73358933j  0.62369562+0.94900167j]]\n",
      "shape(C):  (5, 3, 3)\n",
      "C_2(0) = \n",
      " [[-2.35336941 +7.82688466j -1.70782093+13.02305254j\n",
      "   0.50428594 +8.54846993j]\n",
      " [-4.01774577+11.86760458j -0.22125378+12.49210252j\n",
      "   2.16939561 +9.22601826j]\n",
      " [-8.02370548+13.78825217j  2.34797488+19.78310425j\n",
      "   5.60605852+10.84894474j]]\n",
      "C(0) = \n",
      " [[-3.961214  +14.08164414j -0.02424697+16.96557508j\n",
      "   3.57699604+11.04347156j]\n",
      " [-5.11705802+15.03435616j -0.89518857+18.20029068j\n",
      "   2.40292593+12.18576631j]\n",
      " [-5.42651683+15.55774111j -0.25094293+15.58870789j\n",
      "   2.05990148+10.16543559j]]\n",
      "shape(C):  (10, 5, 3, 3)\n",
      "A(0,0)B(0,0) = \n",
      " [[ 0.35281764+0.41105245j -0.46386228+0.85936427j  0.04365767+0.25525602j]\n",
      " [-0.04471856+0.40283937j -0.40408302+1.17842315j  0.54247683+0.3549945j ]\n",
      " [-0.61914618+0.5089857j   0.28880003+0.1643051j  -0.04352056+0.40841852j]]\n",
      "C(0,0) = \n",
      " [[ 0.35281764+0.41105245j -0.46386228+0.85936427j  0.04365767+0.25525602j]\n",
      " [-0.04471856+0.40283937j -0.40408302+1.17842315j  0.54247683+0.3549945j ]\n",
      " [-0.61914618+0.5089857j   0.28880003+0.1643051j  -0.04352056+0.40841852j]]\n"
     ]
    }
   ],
   "source": [
    "np.random.seed(0)\n",
    "L = 10\n",
    "K = 5\n",
    "M = 3\n",
    "R  = 3\n",
    "N = 3\n",
    "\n",
    "A = np.random.uniform(size=L*K*M*R)+np.random.uniform(size=L*K*M*R)*1.j\n",
    "A = np.reshape(A,(L,K,M,R))\n",
    "\n",
    "B = np.random.uniform(size = K*R*N)+np.random.uniform(size = K*R*N)*1.j\n",
    "B = np.reshape(B,(K,R,N))\n",
    "\n",
    "C = np.einsum(\"lkmr, krn->lkmn\",A,B)\n",
    "\n",
    "print(\"shape(C): \",np.shape(C))\n",
    "\n",
    "print(\"A(0,0)B(0,0) = \\n\", np.matmul(A[0,0,...],B[0,...]))\n",
    "print(\"C(0,0) = \\n\", C[0,0,...])\n",
    "\n",
    "C = np.einsum(\"lkmr,krn->kmn\",A,B)\n",
    "\n",
    "print(\"shape(C): \",np.shape(C))\n",
    "\n",
    "for l in range(L):\n",
    "    if l ==0:\n",
    "        C_2 = np.matmul(A[1,0,...], B[0,...])\n",
    "    else:\n",
    "        C_2 = C_2+np.matmul(A[1,0,...], B[0,...])\n",
    "\n",
    "print(\"C_2(0) = \\n\", C_2)\n",
    "print(\"C(0) = \\n\", C[0,...])\n",
    "\n",
    "C = np.einsum(\"lkmn,kmn->lkmn\", A,B)\n",
    "\n",
    "print(\"shape(C): \",np.shape(C))\n",
    "\n",
    "print(\"A(0,0)B(0,0) = \\n\", np.multiply(A[0,0,...],B[0,...]))\n",
    "print(\"C(0,0) = \\n\", C[0,0,...])"
   ]
  },
  {
   "cell_type": "markdown",
   "metadata": {},
   "source": [
    "アインシュタイン縮約記法では入力は2つ以上でも扱うことが出来る．例えば，\n",
    "$$\n",
    "D_k = \\sum_{l} A_{lk}B_k C_l\n",
    "$$\n",
    "という計算を行う場合では$lkmr,krs,lsn \\rightarrow kmn$と表すことができる．"
   ]
  },
  {
   "cell_type": "markdown",
   "metadata": {},
   "source": [
    "　正方行列$A$に対して，以下の関係を満たす行列$B$を逆行列と呼ぶ．\n",
    "$$\n",
    "AB = BA = I\n",
    "$$\n",
    "このような逆行列を$A^{-1}$と書く．\n",
    "また，逆行列が転置行列と一致するような場合にはこの逆行列を直行行列と呼ぶ．\n",
    "つまり以下の関係が成り立つ．\n",
    "$$\n",
    "AA^T = I\n",
    "$$\n",
    "また，逆行列がエルミート転置行列と一致する場合，この逆行列をユニタリ行列と呼ぶ．\n",
    "ここでは，\n",
    "$$\n",
    "AA^H = I\n",
    "$$\n",
    "が成り立つ．\n",
    "\n",
    "逆行列が成立する条件として行列式が0ではないときである．ここで行列式の出番である．一般に，行列式は正方行列の大きさを表すような量である．正方行列$A$の行列式を$\\mathrm{det}A$と表す．ここで(m,n) = (2, 2)の正方行列$A$の行列式は\n",
    "$$\n",
    "\\mathrm{det}A = a_{1, 1}a_{2, 2} - a_{1, 2}a_{2, 1}\n",
    "$$\n",
    "で計算が可能である．\n",
    "これを一般化した$M$行$M$列の正方行列$A$の行列式は\n",
    "$$\n",
    "\\mathrm{det}A = \\sum_{\\sigma \\in S_M} \\mathrm{sgn}(\\sigma) \\prod_{i = 1}^{M} a_{i, \\sigma(i)}\n",
    "$$\n",
    "と表すことができる．$S_M$は$M$個の数の並び替えの全ての種類を集めた集合であり，$\\mathrm{sgn}$は並び替えの回数が奇数なら$-1$，偶数なら$1$になる記号である．\n",
    "\n",
    "また以下の性質が挙げられる．\n",
    "\\begin{eqnarray*}\n",
    "\\mathrm{det} cA = c^M \\mathrm{det}A\\\\\n",
    "\\mathrm{det} AB = \\mathrm{det}A\\mathrm{det}B\\\\\n",
    "\\mathrm{det}A^T = \\mathrm{det}A \\\\\n",
    "\\mathrm{det}A^H = (\\mathrm{det}A)^*\n",
    "\\end{eqnarray*}"
   ]
  },
  {
   "cell_type": "code",
   "execution_count": 2,
   "metadata": {},
   "outputs": [],
   "source": [
    "import numpy as np"
   ]
  },
  {
   "cell_type": "code",
   "execution_count": 6,
   "metadata": {},
   "outputs": [
    {
     "name": "stdout",
     "output_type": "stream",
     "text": [
      "detA(0):  (0.5026136129571367+0.020264008179737707j)\n",
      "det3A(0):  (13.570567549842696+0.5471282208529206j)\n"
     ]
    }
   ],
   "source": [
    "np.random.seed(0)\n",
    "\n",
    "L = 10\n",
    "M = 3\n",
    "N = 3\n",
    "\n",
    "A = np.random.uniform(size = L*M*N)+np.random.uniform(size = L*M*N)*1.j\n",
    "A = np.reshape(A, (L, M, N))\n",
    "\n",
    "detA = np.linalg.det(A)\n",
    "print(\"detA(0): \",detA[0])\n",
    "det3A = np.linalg.det(3*A)\n",
    "print(\"det3A(0): \",det3A[0])"
   ]
  },
  {
   "cell_type": "code",
   "execution_count": 8,
   "metadata": {},
   "outputs": [
    {
     "name": "stdout",
     "output_type": "stream",
     "text": [
      "単位行列？ : \n",
      " [[ 1.00000000e+00+5.55111512e-17j  1.11022302e-16+0.00000000e+00j\n",
      "  -1.11022302e-16+1.11022302e-16j]\n",
      " [ 0.00000000e+00-1.11022302e-16j  1.00000000e+00+1.11022302e-16j\n",
      "  -5.55111512e-17+0.00000000e+00j]\n",
      " [-1.11022302e-16+2.22044605e-16j  0.00000000e+00+2.22044605e-16j\n",
      "   1.00000000e+00+2.22044605e-16j]]\n",
      "単位行列？ : \n",
      " [[ 1.00000000e+00+0.00000000e+00j  0.00000000e+00+0.00000000e+00j\n",
      "   5.55111512e-17-1.11022302e-16j]\n",
      " [ 1.11022302e-16-1.11022302e-16j  1.00000000e+00+0.00000000e+00j\n",
      "   0.00000000e+00+5.55111512e-17j]\n",
      " [-1.11022302e-16+2.77555756e-16j  0.00000000e+00+2.22044605e-16j\n",
      "   1.00000000e+00+3.33066907e-16j]]\n"
     ]
    }
   ],
   "source": [
    "A_inv = np.linalg.inv(A)\n",
    "\n",
    "AA_inv = np.einsum(\"lmk,lkn->lmn\",A, A_inv)\n",
    "print(\"単位行列？ : \\n\", AA_inv[0])\n",
    "\n",
    "A_invA = np.einsum(\"lmk,lkn->lmn\", A_inv, A)\n",
    "print(\"単位行列？ : \\n\", A_invA[0])"
   ]
  },
  {
   "cell_type": "code",
   "execution_count": 5,
   "metadata": {},
   "outputs": [
    {
     "name": "stdout",
     "output_type": "stream",
     "text": [
      "単位行列？ : \n",
      " [[ 1.00000000e+00+0.00000000e+00j  9.99200722e-16-7.77156117e-16j\n",
      "  -1.11022302e-16+4.44089210e-16j]\n",
      " [-1.11022302e-16-3.88578059e-16j  1.00000000e+00+1.11022302e-16j\n",
      "  -1.11022302e-16+0.00000000e+00j]\n",
      " [ 2.77555756e-16-2.22044605e-16j  4.44089210e-16+1.11022302e-16j\n",
      "   1.00000000e+00+3.33066907e-16j]]\n",
      "単位行列？ : \n",
      " [[ 1.00000000e+00+3.33066907e-16j -2.77555756e-17+1.11022302e-16j\n",
      "  -3.33066907e-16+1.11022302e-16j]\n",
      " [ 6.66133815e-16-5.68989300e-16j  1.00000000e+00-1.66533454e-16j\n",
      "   1.11022302e-16-2.22044605e-16j]\n",
      " [ 4.44089210e-16+4.99600361e-16j  3.33066907e-16+2.22044605e-16j\n",
      "   1.00000000e+00+2.22044605e-16j]]\n"
     ]
    }
   ],
   "source": [
    "A_inv = np.linalg.pinv(A)\n",
    "\n",
    "AA_inv = np.einsum(\"lmk,lkn->lmn\",A, A_inv)\n",
    "print(\"単位行列？ : \\n\", AA_inv[0])\n",
    "\n",
    "A_invA = np.einsum(\"lmk,lkn->lmn\",A_inv, A)\n",
    "print(\"単位行列？ : \\n\", A_invA[0])"
   ]
  },
  {
   "cell_type": "markdown",
   "metadata": {},
   "source": [
    "$M$個の要素を持つベクトル$\\textbf{b}$を以下のように定義する．\n",
    "$$\n",
    "\\textbf{b} = \n",
    "\\begin{pmatrix}\n",
    "b_1\\\\\n",
    "\\vdots \\\\\n",
    "b_m \\\\\n",
    "\\vdots \\\\\n",
    "b_M\n",
    "\\end{pmatrix}\n",
    "$$\n",
    "$M$行$N$列の行列$A$に$N$個の要素を持つベクトル$\\textbf{b}$を掛けると$M$個の要素を持つベクトル$\\textbf{c}$が作られる．この計算は以下のように表される．\n",
    "$$\n",
    "\\textbf{c} = \\textbf{Ab} = \n",
    "\\begin{pmatrix}\n",
    "a_{11} & \\cdots & a_{1n} & \\cdots & a_{1N}\\\\\n",
    "\\vdots & \\ddots &        &        & \\vdots \\\\\n",
    "a_{m1} &        & a_{mn} &        & a_{mN} \\\\\n",
    "\\vdots &        &        & \\ddots & \\vdots \\\\\n",
    "a_{M1} & \\cdots & a_{Mn} & \\cdots & a_{MN}\n",
    "\\end{pmatrix}\n",
    "\\begin{pmatrix}\n",
    "b_1\\\\\n",
    "\\vdots \\\\\n",
    "b_m \\\\\n",
    "\\vdots \\\\\n",
    "b_M\n",
    "\\end{pmatrix}\n",
    "=\n",
    "\\begin{pmatrix}\n",
    "\\sum_{n=1}^{N} a_{1n}b_n\\\\\n",
    "\\vdots \\\\\n",
    "\\sum_{n=1}^{N} a_{mn}b_n \\\\\n",
    "\\vdots \\\\\n",
    "\\sum_{n=1}^{N} a_{Mn}b_n\n",
    "\\end{pmatrix}\n",
    "$$"
   ]
  },
  {
   "cell_type": "code",
   "execution_count": 2,
   "metadata": {},
   "outputs": [],
   "source": [
    "import numpy as np"
   ]
  },
  {
   "cell_type": "code",
   "execution_count": 3,
   "metadata": {},
   "outputs": [
    {
     "name": "stdout",
     "output_type": "stream",
     "text": [
      "A = \n",
      " [[3. 1. 2.]\n",
      " [2. 3. 1.]]\n",
      "b = \n",
      " [2. 1. 4.]\n",
      "Ab = \n",
      " [[15. 11.]]\n"
     ]
    }
   ],
   "source": [
    "A = np.matrix([[3., 1., 2.], [2., 3., 1.]])\n",
    "\n",
    "b = np.array([2., 1., 4.])\n",
    "\n",
    "print(\"A = \\n\", A)\n",
    "\n",
    "print(\"b = \\n\", b)\n",
    "\n",
    "print(\"Ab = \\n\", np.dot(A,b))"
   ]
  },
  {
   "cell_type": "markdown",
   "metadata": {},
   "source": [
    "$M$個の要素を持つベクトル$\\textbf{b}$とベクトル$\\textbf{c}$の内積を次のように定義する．\n",
    "\n",
    "ベクトルが実ベクトルの場合，\n",
    "$$\n",
    "d = \\textbf{b}^T\\textbf{c} = \\sum_{m=1}^{M}b_m c_m\n",
    "$$\n",
    "となり，複素ベクトルの場合，\n",
    "$$\n",
    "d = \\textbf{b}^H\\textbf{c} = \\sum_{m=1}^{M}b^*_m c_m\n",
    "$$\n",
    "これを行列の積の特殊な場合と考えることができる．つまり1行M列の行列とM行1列の行列の積と見ることができる．\n",
    "また，ベクトル$\\textbf{b}$とベクトル$\\textbf{c}$の内積$d$が0となる場合，ベクトル$\\textbf{b}$とベクトル$\\textbf{c}$は直行するという．\n",
    "\n",
    "次に同じベクトル$\\textbf{b}$の内積計算を示す．実ベクトルの場合，\n",
    "$$\n",
    "d = \\textbf{b}^T\\textbf{b} = \\sum_{m=1}^{M}|b_m|^2\n",
    "$$\n",
    "この時，$\\sqrt{d}$はベクトル$\\textbf{b}$の大きさを表す量となる．信号処理では各要素を2乗して足した後$\\sqrt$を取ることで計算されるベクトルの大きさを$L_2$ノルムと呼ぶ．ここから一般化して$L_p$ノルムを以下のように定義する．\n",
    "$$\n",
    "||\\textbf{b}||_p = \\sqrt[n]{\\sum_{m=1}^{M}|b_m|^p}\n",
    "$$\n",
    " ここで$L_2$ノルムが0となるベクトルを零ベクトル，$L_2$ノルムが1となるベクトルを単位ベクトルと呼ぶ．"
   ]
  },
  {
   "cell_type": "code",
   "execution_count": 5,
   "metadata": {},
   "outputs": [],
   "source": [
    "import numpy as np"
   ]
  },
  {
   "cell_type": "code",
   "execution_count": 11,
   "metadata": {},
   "outputs": [
    {
     "name": "stdout",
     "output_type": "stream",
     "text": [
      "[3.+2.j 1.-1.j 2.+2.j]\n",
      "[2.+5.j 1.-1.j 4.+1.j]\n",
      "a^Hb= (28+5j)\n",
      "a^Ha= (23+0j)\n"
     ]
    }
   ],
   "source": [
    "a = np.array([3.+2.j, 1.-1.j, 2.+2.j])\n",
    "print(a)\n",
    "b = np.array([2.+5.j, 1.-1J, 4.+1.j])\n",
    "print(b)\n",
    "\n",
    "print(\"a^Hb=\", np.inner(np.conjugate(a),b))\n",
    "\n",
    "print(\"a^Ha=\", np.inner(np.conjugate(a),a))"
   ]
  },
  {
   "cell_type": "markdown",
   "metadata": {},
   "source": [
    "逆行列が存在するか重要な判定法としての線形独立性について述べる．まず，行列$\\textbf{A}$の列ベクトル$\\textbf{a}_m$を以下のように定義する．\n",
    "$$\n",
    "\\textbf{a}_m = \n",
    "\\begin{pmatrix}\n",
    "a_1m\\\\\n",
    "\\vdots \\\\\n",
    "a_nm \\\\\n",
    "\\vdots \\\\\n",
    "a_Nm\n",
    "\\end{pmatrix}\n",
    "$$\n",
    "つまり，\n",
    "$$\n",
    "\\textbf{A} = [a_1 \\cdots a_m \\cdots a_M]\n",
    "$$\n",
    "と表すことができる．ここで逆行列が存在するということは行列式が0でないことである．つまり，行列の列ベクトルが線形独立であることである．\n",
    "\n",
    "行列が線形独立ということは列ベクトル$a_m$が$m$以外の列ベクトルの線形和で書くことができないということである．\n",
    "$$\n",
    "\\sum_{m=1}^{M}\\alpha_m\\textbf{a}_m = 0\n",
    "$$\n",
    "となるならば，$\\alpha_m = 0$しかありえない．M次の正方行列では最大M個の線形独立なベクトルが存在する．仮にM+1個のベクトルを選んでくるとすると，必ず1つは線形独立でないベクトルが存在する．任意のベクトル$\\textbf{b}$はM個の線形独立なベクトルの線形和で表すことができる．\n",
    "$$\n",
    "\\textbf{b} = \\sum_{m=1}^{M}\\beta_m\\textbf{a}_m\n",
    "$$\n",
    "このとき，$\\beta_m$は$\\textbf{b}$ごとに1通りしか存在しないことになる．また，M次元の任意ベクトルはM個の線形独立なベクトルの線形和として書くことができる．つまり，M次元のベクトルはM個の基底で分解できるということである．"
   ]
  },
  {
   "cell_type": "code",
   "execution_count": null,
   "metadata": {},
   "outputs": [],
   "source": []
  }
 ],
 "metadata": {
  "kernelspec": {
   "display_name": "Python 3",
   "language": "python",
   "name": "python3"
  },
  "language_info": {
   "codemirror_mode": {
    "name": "ipython",
    "version": 3
   },
   "file_extension": ".py",
   "mimetype": "text/x-python",
   "name": "python",
   "nbconvert_exporter": "python",
   "pygments_lexer": "ipython3",
   "version": "3.8.5"
  }
 },
 "nbformat": 4,
 "nbformat_minor": 4
}
